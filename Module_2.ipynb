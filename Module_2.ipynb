{
  "nbformat": 4,
  "nbformat_minor": 0,
  "metadata": {
    "colab": {
      "name": "Module 2.ipynb",
      "provenance": [],
      "toc_visible": true,
      "authorship_tag": "ABX9TyMCCFvOEHIoN4OISbFjBcmj",
      "include_colab_link": true
    },
    "kernelspec": {
      "name": "python3",
      "display_name": "Python 3"
    }
  },
  "cells": [
    {
      "cell_type": "markdown",
      "metadata": {
        "id": "view-in-github",
        "colab_type": "text"
      },
      "source": [
        "<a href=\"https://colab.research.google.com/github/MohammedNayaz/Application-Development-with-Python/blob/main/Module_2.ipynb\" target=\"_parent\"><img src=\"https://colab.research.google.com/assets/colab-badge.svg\" alt=\"Open In Colab\"/></a>"
      ]
    },
    {
      "cell_type": "markdown",
      "metadata": {
        "id": "8eWLYqoEHcTt"
      },
      "source": [
        "#Module 2"
      ]
    },
    {
      "cell_type": "markdown",
      "metadata": {
        "id": "JwxO805OHeqC"
      },
      "source": [
        "##Lists are mutable, Justify the statements with example."
      ]
    },
    {
      "cell_type": "code",
      "metadata": {
        "id": "8MwuJiyxDbFh",
        "outputId": "21ac8d26-f1ec-4f7d-dd8e-c8c280185477",
        "colab": {
          "base_uri": "https://localhost:8080/",
          "height": 50
        }
      },
      "source": [
        "fruit = [\"car\", \"bike\", \"jeep\"]\n",
        "print(fruit)\n",
        "\n",
        "fruit[0] = \"bus\"\n",
        "fruit[-1] = \"train\"\n",
        "print(fruit)\n"
      ],
      "execution_count": null,
      "outputs": [
        {
          "output_type": "stream",
          "text": [
            "['car', 'bike', 'jeep']\n",
            "['bus', 'bike', 'train']\n"
          ],
          "name": "stdout"
        }
      ]
    },
    {
      "cell_type": "markdown",
      "metadata": {
        "id": "-FDxu6ryJxCL"
      },
      "source": [
        "##Explain the concept of list slicing and list traversing with example. "
      ]
    },
    {
      "cell_type": "markdown",
      "metadata": {
        "id": "narioS1KKnPy"
      },
      "source": [
        "concept of list slicing  "
      ]
    },
    {
      "cell_type": "code",
      "metadata": {
        "id": "_VyPs6iPJxbK",
        "outputId": "f28a9e2e-195d-4c58-f027-cc1765befd60",
        "colab": {
          "base_uri": "https://localhost:8080/",
          "height": 84
        }
      },
      "source": [
        "my_first_list = [1,2,3, 'Tecnico MDN', 1.23]\n",
        "\n",
        "#Display last element\n",
        "print(my_first_list[-1]) \n",
        "\n",
        "#Display the last 3rd element\n",
        "print(my_first_list[-3]) \n",
        "\n",
        "#Display from 3rd element to end of the list(3rd element is excluded)\n",
        "print(my_first_list[3:])\n",
        "\n",
        "#Display the first 4 elements\n",
        "print(my_first_list[ : 4]) "
      ],
      "execution_count": null,
      "outputs": [
        {
          "output_type": "stream",
          "text": [
            "1.23\n",
            "3\n",
            "['Tecnico MDN', 1.23]\n",
            "[1, 2, 3, 'Tecnico MDN']\n"
          ],
          "name": "stdout"
        }
      ]
    },
    {
      "cell_type": "markdown",
      "metadata": {
        "id": "BBew_7h0Krjl"
      },
      "source": [
        "list traversing "
      ]
    },
    {
      "cell_type": "code",
      "metadata": {
        "id": "FA1vq5s3KtfP",
        "outputId": "23cdac66-9a89-461d-9dfc-c7d9895439f3",
        "colab": {
          "base_uri": "https://localhost:8080/",
          "height": 101
        }
      },
      "source": [
        "# Python3 code to iterate over a list \n",
        "list = [1, 3, 5, 7, 9] \n",
        "   \n",
        "# getting length of list \n",
        "length = len(list) \n",
        "   \n",
        "# Iterating the index \n",
        "# same as 'for i in range(len(list))' \n",
        "for i in range(length): \n",
        "    print(list[i]) "
      ],
      "execution_count": null,
      "outputs": [
        {
          "output_type": "stream",
          "text": [
            "1\n",
            "3\n",
            "5\n",
            "7\n",
            "9\n"
          ],
          "name": "stdout"
        }
      ]
    },
    {
      "cell_type": "markdown",
      "metadata": {
        "id": "LrHIvd2CMdBa"
      },
      "source": [
        "##Show how one list can contain another list can be accessed using multiple indexes with example. "
      ]
    },
    {
      "cell_type": "code",
      "metadata": {
        "id": "XVwdxDzVMejk",
        "outputId": "464cf633-03fa-404f-972d-9ff4f8d5ef9e",
        "colab": {
          "base_uri": "https://localhost:8080/",
          "height": 67
        }
      },
      "source": [
        "L = ['a', 'b', ['cc', 'dd', ['eee', 'fff']], 'g', 'h']\n",
        "\n",
        "print(L[2])\n",
        "# Prints ['cc', 'dd', ['eee', 'fff']]\n",
        "\n",
        "print(L[2][2])\n",
        "# Prints ['eee', 'fff']\n",
        "\n",
        "print(L[2][2][0])\n",
        "# Prints eee"
      ],
      "execution_count": null,
      "outputs": [
        {
          "output_type": "stream",
          "text": [
            "['cc', 'dd', ['eee', 'fff']]\n",
            "['eee', 'fff']\n",
            "eee\n"
          ],
          "name": "stdout"
        }
      ]
    },
    {
      "cell_type": "code",
      "metadata": {
        "id": "RBoaA4o4Msr0",
        "outputId": "dd90bcf8-9c00-404b-d3b1-b2acf4d21cf5",
        "colab": {
          "base_uri": "https://localhost:8080/",
          "height": 134
        }
      },
      "source": [
        "list = ['1st year',['sem1','sem2'], '2nd year' ,['sem3','sem4'],'3rd year',['sem5','sem6'],'4th year',['sem7','sem8']]\n",
        "#the above list is indexed like 0, 1, 2, 3, 4, \n",
        "\n",
        "#Display 1st list elements \n",
        "print(list[1])\n",
        "\n",
        "#Display 4th list\n",
        "print(list[4])\n",
        "\n",
        "print(list[6])\n",
        "\n",
        "#Display 3rd list 1st index element -> 2nd year\n",
        "print(list[3][1])\n",
        "\n",
        "print(list[1][1])\n",
        "print(list[:4])\n",
        "print(list[:8])"
      ],
      "execution_count": null,
      "outputs": [
        {
          "output_type": "stream",
          "text": [
            "['sem1', 'sem2']\n",
            "3rd year\n",
            "4th year\n",
            "sem4\n",
            "sem2\n",
            "['1st year', ['sem1', 'sem2'], '2nd year', ['sem3', 'sem4']]\n",
            "['1st year', ['sem1', 'sem2'], '2nd year', ['sem3', 'sem4'], '3rd year', ['sem5', 'sem6'], '4th year', ['sem7', 'sem8']]\n"
          ],
          "name": "stdout"
        }
      ]
    },
    {
      "cell_type": "markdown",
      "metadata": {
        "id": "cnifNPlJQn7Y"
      },
      "source": [
        "##Demonstrate how to Changing Values in a List using Indexes"
      ]
    },
    {
      "cell_type": "code",
      "metadata": {
        "id": "7FnusPhEQo4M",
        "outputId": "6d73faf2-6b3c-4645-a87d-89f7cf8f66cf",
        "colab": {
          "base_uri": "https://localhost:8080/",
          "height": 34
        }
      },
      "source": [
        "my_list = ['car','jeep','suv','bus','bike']\n",
        "my_list"
      ],
      "execution_count": null,
      "outputs": [
        {
          "output_type": "execute_result",
          "data": {
            "text/plain": [
              "['car', 'jeep', 'suv', 'bus', 'bike']"
            ]
          },
          "metadata": {
            "tags": []
          },
          "execution_count": 26
        }
      ]
    },
    {
      "cell_type": "code",
      "metadata": {
        "id": "aAwXG7j2RRns",
        "outputId": "9df535aa-bec5-4ee3-9343-013be326dc79",
        "colab": {
          "base_uri": "https://localhost:8080/",
          "height": 34
        }
      },
      "source": [
        "my_list = ['car','jeep','suv','bus','bike']\n",
        "my_list[1] = 'jet'\n",
        "my_list"
      ],
      "execution_count": null,
      "outputs": [
        {
          "output_type": "execute_result",
          "data": {
            "text/plain": [
              "['car', 'jet', 'suv', 'bus', 'bike']"
            ]
          },
          "metadata": {
            "tags": []
          },
          "execution_count": 27
        }
      ]
    },
    {
      "cell_type": "code",
      "metadata": {
        "id": "mQ47We43RZmE",
        "outputId": "7a723264-517b-47ea-9818-838afa6cc6fd",
        "colab": {
          "base_uri": "https://localhost:8080/",
          "height": 34
        }
      },
      "source": [
        "my_list[2] = my_list[1]\n",
        "my_list"
      ],
      "execution_count": null,
      "outputs": [
        {
          "output_type": "execute_result",
          "data": {
            "text/plain": [
              "['car', 'jet', 'jet', 'bus', 'bike']"
            ]
          },
          "metadata": {
            "tags": []
          },
          "execution_count": 28
        }
      ]
    },
    {
      "cell_type": "code",
      "metadata": {
        "id": "8NsXkn1ZRgaG",
        "outputId": "38a66dd4-af2b-4183-845a-460800e7fac4",
        "colab": {
          "base_uri": "https://localhost:8080/",
          "height": 34
        }
      },
      "source": [
        "my_list[-2] = '4SM18CSXXX'\n",
        "my_list[-1] = 123456789\n",
        "my_list"
      ],
      "execution_count": null,
      "outputs": [
        {
          "output_type": "execute_result",
          "data": {
            "text/plain": [
              "['car', 'jet', 'jet', '4SM18CSXXX', 123456789]"
            ]
          },
          "metadata": {
            "tags": []
          },
          "execution_count": 31
        }
      ]
    },
    {
      "cell_type": "markdown",
      "metadata": {
        "id": "L4BvdB9QS3Be"
      },
      "source": [
        "##Demonstrate how Removing values from Lists with del Statements. "
      ]
    },
    {
      "cell_type": "code",
      "metadata": {
        "id": "WsZY9L7qThXX",
        "outputId": "656c4e1b-f3fd-4e12-e05b-d9551fff63e6",
        "colab": {
          "base_uri": "https://localhost:8080/",
          "height": 50
        }
      },
      "source": [
        "lis = [2, 1, 3, 5, 4, 3, 8] \n",
        " \n",
        "# using del to delete elements from pos. 2 to 5 \n",
        "# deletes 3,5,4 \n",
        "del lis[2 : 5] \n",
        "  \n",
        "# displaying list after deleting  \n",
        "print (\"List elements after deleting are : \",end=\"\") \n",
        "for i in range(0, len(lis)): \n",
        "    print(lis[i], end=\" \") \n",
        "      \n",
        "print(\"\\r\") \n",
        "  \n",
        "# using pop() to delete element at pos 2 \n",
        "# deletes 3 \n",
        "lis.pop(2) \n",
        "  \n",
        "# displaying list after popping   \n",
        "print (\"List elements after popping are : \", end=\"\") \n",
        "for i in range(0, len(lis)): \n",
        "    print(lis[i], end=\" \") "
      ],
      "execution_count": null,
      "outputs": [
        {
          "output_type": "stream",
          "text": [
            "List elements after deleting are : 2 1 3 8 \r\n",
            "List elements after popping are : 2 1 8 "
          ],
          "name": "stdout"
        }
      ]
    },
    {
      "cell_type": "code",
      "metadata": {
        "id": "uY68xrV_Q5L4",
        "outputId": "528181ec-3108-45a8-b0b9-529855f7b5cb",
        "colab": {
          "base_uri": "https://localhost:8080/",
          "height": 34
        }
      },
      "source": [
        "# creating a list \n",
        "list1 = [11, 5, 17, 18, 23, 50]  \n",
        "  \n",
        "# Iterate each element in list and add them in variale total \n",
        "for ele in list1: \n",
        "    if ele % 2 == 0: \n",
        "        list1.remove(ele) \n",
        "  \n",
        "# printing modified list \n",
        "print(\"New list after removing all even numbers: \", list1)"
      ],
      "execution_count": null,
      "outputs": [
        {
          "output_type": "stream",
          "text": [
            "New list after removing all even numbers:  [11, 5, 17, 23]\n"
          ],
          "name": "stdout"
        }
      ]
    },
    {
      "cell_type": "markdown",
      "metadata": {
        "id": "KobKdsiJTxy9"
      },
      "source": [
        "##Explain list Concatenation and list Replication. "
      ]
    },
    {
      "cell_type": "code",
      "metadata": {
        "id": "Pe3L2J0qQ5Ba",
        "outputId": "fbc68f03-7960-483c-ddf0-a9a8fc26d876",
        "colab": {
          "base_uri": "https://localhost:8080/",
          "height": 34
        }
      },
      "source": [
        "# concatenation using + operator  \n",
        "  \n",
        "# Initializing lists \n",
        "test_list3 = [1, 4, 5, 6, 5] \n",
        "test_list4 = [3, 5, 7, 2, 5] \n",
        "  \n",
        "# using + operator to concat \n",
        "test_list3 = test_list3 + test_list4 \n",
        "  \n",
        "# Printing concatenated list \n",
        "print (\"Concatenated list using + : \" + str(test_list3)) "
      ],
      "execution_count": null,
      "outputs": [
        {
          "output_type": "stream",
          "text": [
            "Concatenated list using + : [1, 4, 5, 6, 5, 3, 5, 7, 2, 5]\n"
          ],
          "name": "stdout"
        }
      ]
    },
    {
      "cell_type": "code",
      "metadata": {
        "id": "BHp_kg9vUHRg",
        "outputId": "0728009c-f19d-4e9d-8e73-ecb26540f60a",
        "colab": {
          "base_uri": "https://localhost:8080/",
          "height": 50
        }
      },
      "source": [
        "# Concatenating dictionary value lists \n",
        "# Using sum() + values() \n",
        "  \n",
        "# initializing dictionary \n",
        "test_dict = {\"Gfg\" : [4, 5], \"is\" : [6, 8], \"best\" : [10]} \n",
        "  \n",
        "# printing original dictionary \n",
        "print(\"The original dictionary is : \" + str(test_dict)) \n",
        "  \n",
        "# Concatenating dictionary value lists \n",
        "# Using sum() + values() \n",
        "res = sum(test_dict.values(), []) \n",
        "  \n",
        "# printing result  \n",
        "print(\"The Concatenated list values are : \" + str(res))"
      ],
      "execution_count": null,
      "outputs": [
        {
          "output_type": "stream",
          "text": [
            "The original dictionary is : {'Gfg': [4, 5], 'is': [6, 8], 'best': [10]}\n",
            "The Concatenated list values are : [4, 5, 6, 8, 10]\n"
          ],
          "name": "stdout"
        }
      ]
    },
    {
      "cell_type": "markdown",
      "metadata": {
        "id": "fGVDHG4wUOpU"
      },
      "source": [
        "##Explain with example the in and not in Operators "
      ]
    },
    {
      "cell_type": "markdown",
      "metadata": {
        "id": "Al1yrq-hUZrW"
      },
      "source": [
        "in operator : The ‘in’ operator is used to check if a value exists in a sequence or not. Evaluates to true if it finds a variable in the specified sequence and false otherwise."
      ]
    },
    {
      "cell_type": "code",
      "metadata": {
        "id": "TQ8S-4RsUOUK",
        "outputId": "451001ed-807f-48b5-a8ad-0db8ee190d63",
        "colab": {
          "base_uri": "https://localhost:8080/",
          "height": 34
        }
      },
      "source": [
        "# Finding common member in list  \n",
        "# using 'in' operator \n",
        "list1=[1,2,3,4,5] \n",
        "list2=[6,7,8,9] \n",
        "for item in list1: \n",
        "    if item in list2: \n",
        "        print(\"overlapping\")       \n",
        "else: \n",
        "    print(\"not overlapping\")"
      ],
      "execution_count": null,
      "outputs": [
        {
          "output_type": "stream",
          "text": [
            "not overlapping\n"
          ],
          "name": "stdout"
        }
      ]
    },
    {
      "cell_type": "markdown",
      "metadata": {
        "id": "0fKKe3SmUnTe"
      },
      "source": [
        "‘not in’ operator- Evaluates to true if it does not finds a variable in the specified sequence and false otherwise."
      ]
    },
    {
      "cell_type": "code",
      "metadata": {
        "id": "GTDlui1SUihw",
        "outputId": "35dcd102-3afc-4186-bb6a-d2b93bb425ab",
        "colab": {
          "base_uri": "https://localhost:8080/",
          "height": 50
        }
      },
      "source": [
        "# not 'in' operator \n",
        "x = 24\n",
        "y = 20\n",
        "list = [10, 20, 30, 40, 50 ]; \n",
        "  \n",
        "if ( x not in list ): \n",
        "   print(\"x is NOT present in given list\") \n",
        "else: \n",
        "   print(\"x is  present in given list\") \n",
        "  \n",
        "if ( y in list ): \n",
        "   print(\"y is present in given list\") \n",
        "else: \n",
        "   print(\"y is NOT present in given list\")"
      ],
      "execution_count": null,
      "outputs": [
        {
          "output_type": "stream",
          "text": [
            "x is NOT present in given list\n",
            "y is present in given list\n"
          ],
          "name": "stdout"
        }
      ]
    },
    {
      "cell_type": "code",
      "metadata": {
        "id": "4LeiwQQLUiSH"
      },
      "source": [
        ""
      ],
      "execution_count": null,
      "outputs": []
    }
  ]
}