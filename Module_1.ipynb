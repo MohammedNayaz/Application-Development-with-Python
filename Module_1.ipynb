{
  "nbformat": 4,
  "nbformat_minor": 0,
  "metadata": {
    "colab": {
      "name": "Module 1.ipynb",
      "provenance": [],
      "collapsed_sections": [],
      "toc_visible": true,
      "authorship_tag": "ABX9TyP4AsqBV/NWJJawxrNRrXZN",
      "include_colab_link": true
    },
    "kernelspec": {
      "name": "python3",
      "display_name": "Python 3"
    }
  },
  "cells": [
    {
      "cell_type": "markdown",
      "metadata": {
        "id": "view-in-github",
        "colab_type": "text"
      },
      "source": [
        "<a href=\"https://colab.research.google.com/github/MohammedNayaz/Application-Development-with-Python/blob/main/Module_1.ipynb\" target=\"_parent\"><img src=\"https://colab.research.google.com/assets/colab-badge.svg\" alt=\"Open In Colab\"/></a>"
      ]
    },
    {
      "cell_type": "markdown",
      "metadata": {
        "id": "5tigBItqyRux"
      },
      "source": [
        "#Module 1"
      ]
    },
    {
      "cell_type": "markdown",
      "metadata": {
        "id": "QFUTMO7nyZXO"
      },
      "source": [
        "##Write a python program to Calculate the area of a triangle and circle prints the result. And take input from the user"
      ]
    },
    {
      "cell_type": "code",
      "metadata": {
        "id": "gfPz1t89yRZA",
        "outputId": "85e383b5-f5c7-4edf-fb24-9d0c6915b4b3",
        "colab": {
          "base_uri": "https://localhost:8080/",
          "height": 101
        }
      },
      "source": [
        "print(\"Enter the following to find the area of triangle\")\n",
        "a = float(input('Enter first side: '))\n",
        "b = float(input('Enter second side: '))\n",
        "c = float(input('Enter third side: '))\n",
        "\n",
        "# calculate the semi-perimeter\n",
        "s = (a + b + c) / 2\n",
        "\n",
        "# calculate the area\n",
        "area = (s*(s-a)*(s-b)*(s-c)) ** 0.5\n",
        "print('The area of the triangle is %0.2f' %area)\n"
      ],
      "execution_count": null,
      "outputs": [
        {
          "output_type": "stream",
          "text": [
            "Enter the following to find the area of triangle\n",
            "Enter first side: 5\n",
            "Enter second side: 6\n",
            "Enter third side: 7\n",
            "The area of the triangle is 14.70\n"
          ],
          "name": "stdout"
        }
      ]
    },
    {
      "cell_type": "markdown",
      "metadata": {
        "id": "B3S70TN02cx4"
      },
      "source": [
        "##Write a Python program to find simple interest for given principal amount, time and rate of interest. "
      ]
    },
    {
      "cell_type": "code",
      "metadata": {
        "id": "qVDA2tlz1kCL",
        "outputId": "7cba5ece-4a66-4754-ca21-f08bfe5f5cf5",
        "colab": {
          "base_uri": "https://localhost:8080/",
          "height": 101
        }
      },
      "source": [
        "print(\"Enter the following details to find the Simple Interest\")\n",
        "\n",
        "p = float(input('Enter the principle ammount: '))\n",
        "t = float(input('Enter the time: '))\n",
        "r = float(input('Enter the rate of interest: '))\n",
        "\n",
        "SI = (p*t*r)/100;\n",
        "\n",
        "print('The Simple Interest is:%f '%SI)\n"
      ],
      "execution_count": null,
      "outputs": [
        {
          "output_type": "stream",
          "text": [
            "Enter the following details to find the Simple Interest\n",
            "Enter the principle ammount: 5000\n",
            "Enter the time: 2\n",
            "Enter the rate of interest: 3.5\n",
            "The Simple Interest is:350.000000 \n"
          ],
          "name": "stdout"
        }
      ]
    },
    {
      "cell_type": "markdown",
      "metadata": {
        "id": "MkmkX5Z4EyCn"
      },
      "source": [
        "##Predict the output and justify your answer:\n",
        "1) -11%9\n",
        "2) 7.7 // 7\n",
        "3) (200-70)*10/5\n",
        "4) Not “False”\n",
        "5) 5*1**2"
      ]
    },
    {
      "cell_type": "code",
      "metadata": {
        "id": "N8qBsnih3m-a",
        "outputId": "08fee45e-f63b-4d82-9f1d-244b3cbc49dd",
        "colab": {
          "base_uri": "https://localhost:8080/",
          "height": 34
        }
      },
      "source": [
        "-11%9 "
      ],
      "execution_count": null,
      "outputs": [
        {
          "output_type": "execute_result",
          "data": {
            "text/plain": [
              "7"
            ]
          },
          "metadata": {
            "tags": []
          },
          "execution_count": 4
        }
      ]
    },
    {
      "cell_type": "code",
      "metadata": {
        "id": "1279uOSq3nFj",
        "outputId": "bdb72eb9-5080-47a6-f644-298d966cb4ab",
        "colab": {
          "base_uri": "https://localhost:8080/",
          "height": 34
        }
      },
      "source": [
        "7.7 // 7 "
      ],
      "execution_count": null,
      "outputs": [
        {
          "output_type": "execute_result",
          "data": {
            "text/plain": [
              "1.0"
            ]
          },
          "metadata": {
            "tags": []
          },
          "execution_count": 5
        }
      ]
    },
    {
      "cell_type": "code",
      "metadata": {
        "id": "p5s2pLwD3nKp",
        "outputId": "d8a22aa8-e6ad-4ffa-fca0-c39179ea95a4",
        "colab": {
          "base_uri": "https://localhost:8080/",
          "height": 34
        }
      },
      "source": [
        "(200-70)*10/5 "
      ],
      "execution_count": null,
      "outputs": [
        {
          "output_type": "execute_result",
          "data": {
            "text/plain": [
              "260.0"
            ]
          },
          "metadata": {
            "tags": []
          },
          "execution_count": 6
        }
      ]
    },
    {
      "cell_type": "code",
      "metadata": {
        "id": "m0XrBv0Z3nI7",
        "outputId": "c9078465-6136-4fbf-d0eb-ac38ce2a2db4",
        "colab": {
          "base_uri": "https://localhost:8080/",
          "height": 128
        }
      },
      "source": [
        " Not “False” "
      ],
      "execution_count": null,
      "outputs": [
        {
          "output_type": "error",
          "ename": "SyntaxError",
          "evalue": "ignored",
          "traceback": [
            "\u001b[0;36m  File \u001b[0;32m\"<ipython-input-7-d73bb17c9369>\"\u001b[0;36m, line \u001b[0;32m1\u001b[0m\n\u001b[0;31m    Not “False”\u001b[0m\n\u001b[0m              ^\u001b[0m\n\u001b[0;31mSyntaxError\u001b[0m\u001b[0;31m:\u001b[0m invalid character in identifier\n"
          ]
        }
      ]
    },
    {
      "cell_type": "code",
      "metadata": {
        "id": "HQi8IwmE3nDV",
        "outputId": "4f5c1aa9-c92d-4adf-c267-bf6fcd130cdb",
        "colab": {
          "base_uri": "https://localhost:8080/",
          "height": 34
        }
      },
      "source": [
        "5*1**2 "
      ],
      "execution_count": null,
      "outputs": [
        {
          "output_type": "execute_result",
          "data": {
            "text/plain": [
              "5"
            ]
          },
          "metadata": {
            "tags": []
          },
          "execution_count": 8
        }
      ]
    },
    {
      "cell_type": "code",
      "metadata": {
        "id": "7-MgvzeA3nB0",
        "outputId": "f03fe7b0-95a8-482a-c2b2-a0f9cc1b48c2",
        "colab": {
          "base_uri": "https://localhost:8080/",
          "height": 34
        }
      },
      "source": [
        "(5-1)*((7+1)/(3-1))"
      ],
      "execution_count": null,
      "outputs": [
        {
          "output_type": "execute_result",
          "data": {
            "text/plain": [
              "16.0"
            ]
          },
          "metadata": {
            "tags": []
          },
          "execution_count": 9
        }
      ]
    },
    {
      "cell_type": "markdown",
      "metadata": {
        "id": "g2Je7x6w6qLT"
      },
      "source": [
        "##Write a python program to find the best of two test average marks out of three test’s marks accepted from the user. "
      ]
    },
    {
      "cell_type": "code",
      "metadata": {
        "id": "8a3WgvQh9tpe",
        "outputId": "42251a81-349e-4c3b-ba98-3927129f1f4a",
        "colab": {
          "base_uri": "https://localhost:8080/",
          "height": 101
        }
      },
      "source": [
        "num1 = float(eval(input(\"Enter a number :- \"))) \n",
        "num2 = float(eval(input(\"Enter a number :- \"))) \n",
        "num3 = float(eval(input(\"Enter a number :- \"))) \n",
        " \n",
        "if (num1 > num2):\n",
        "  if (num2 > num3):\n",
        "    avg1=num1\n",
        "    avg2=num2\n",
        "  else:\n",
        "      avg2=num3\n",
        "elif (num1 < num2):\n",
        "  if (num2 > num3):\n",
        "    avg1=num2\n",
        "    avg2=num3\n",
        "else:\n",
        "  avg1=num2\n",
        "  avg2=num3\n",
        "\n",
        " \n",
        "print(\"The average of 3 test marks are = {avg1} and {avg2}\") \n",
        "avg1\n",
        "avg2"
      ],
      "execution_count": null,
      "outputs": [
        {
          "output_type": "stream",
          "text": [
            "Enter a number :- 10\n",
            "Enter a number :- 15\n",
            "Enter a number :- 13\n",
            "The average of 3 test marks are = {avg1} and {avg2}\n"
          ],
          "name": "stdout"
        },
        {
          "output_type": "execute_result",
          "data": {
            "text/plain": [
              "13.0"
            ]
          },
          "metadata": {
            "tags": []
          },
          "execution_count": 24
        }
      ]
    },
    {
      "cell_type": "markdown",
      "metadata": {
        "id": "8zKGUPFGFCYu"
      },
      "source": [
        "###or"
      ]
    },
    {
      "cell_type": "code",
      "metadata": {
        "id": "evsk3V7lLVpO",
        "outputId": "3d0cc391-6725-4595-8c3d-127f2bd60322",
        "colab": {
          "base_uri": "https://localhost:8080/",
          "height": 151
        }
      },
      "source": [
        "# creating empty list\n",
        "list1 = []\n",
        " \n",
        "# number of test marks to put in list\n",
        "num = int(input(\"Enter the number of test marks: \"))\n",
        " \n",
        "# iterating till num to append elements in list\n",
        "for i in range(1, num + 1):\n",
        "    ele = int(input(\"Enter the test marks: \"))\n",
        "    list1.append(ele)\n",
        "\n",
        "# printing the 2 avg marks\n",
        "print(\"The 2 average test marks are:\")\n",
        "print(sorted(list1)[-1])\n",
        "print(\"and\")\n",
        "print(sorted(list1)[-2])\n",
        "\n"
      ],
      "execution_count": null,
      "outputs": [
        {
          "output_type": "stream",
          "text": [
            "Enter the number of test marks: 3\n",
            "Enter the test marks: 28\n",
            "Enter the test marks: 29\n",
            "Enter the test marks: 27\n",
            "The 2 average test marks are:\n",
            "29\n",
            "and\n",
            "28\n"
          ],
          "name": "stdout"
        }
      ]
    },
    {
      "cell_type": "markdown",
      "metadata": {
        "id": "2PcftwQ5FFWR"
      },
      "source": [
        "##List and explain Boolean operators, with example each."
      ]
    },
    {
      "cell_type": "code",
      "metadata": {
        "id": "Xu4wGgzBAjFL",
        "outputId": "160d7205-2b7a-4258-a904-98e18d5865bc",
        "colab": {
          "base_uri": "https://localhost:8080/",
          "height": 118
        }
      },
      "source": [
        "a = 21\n",
        "b = 10\n",
        "c = 0\n",
        "\n",
        "if ( a == b ):\n",
        "   print (\"Line 1 - a is equal to b\")\n",
        "else:\n",
        "   print (\"Line 1 - a is not equal to b\")\n",
        "\n",
        "if ( a != b ):\n",
        "   print (\"Line 2 - a is not equal to b\")\n",
        "else:\n",
        "   print (\"Line 2 - a is equal to b\")\n",
        "\n",
        "if ( a < b ):\n",
        "   print (\"Line 4 - a is less than b\" )\n",
        "else:\n",
        "   print (\"Line 4 - a is not less than b\")\n",
        "\n",
        "if ( a > b ):\n",
        "   print (\"Line 5 - a is greater than b\")\n",
        "else:\n",
        "   print (\"Line 5 - a is not greater than b\")\n",
        "\n",
        "a = 5;\n",
        "b = 20;\n",
        "if ( a <= b ):\n",
        "   print (\"Line 6 - a is either less than or equal to  b\")\n",
        "else:\n",
        "   print (\"Line 6 - a is neither less than nor equal to  b\")\n",
        "\n",
        "if ( b >= a ):\n",
        "   print (\"Line 7 - b is either greater than  or equal to b\")\n",
        "else:\n",
        "   print (\"Line 7 - b is neither greater than  nor equal to b\")"
      ],
      "execution_count": null,
      "outputs": [
        {
          "output_type": "stream",
          "text": [
            "Line 1 - a is not equal to b\n",
            "Line 2 - a is not equal to b\n",
            "Line 4 - a is not less than b\n",
            "Line 5 - a is greater than b\n",
            "Line 6 - a is either less than or equal to  b\n",
            "Line 7 - b is either greater than  or equal to b\n"
          ],
          "name": "stdout"
        }
      ]
    },
    {
      "cell_type": "markdown",
      "metadata": {
        "id": "d1Nk8WDcQS9L"
      },
      "source": [
        "##Write a python program to check whether give number is positive or negative or zero "
      ]
    },
    {
      "cell_type": "code",
      "metadata": {
        "id": "bznUx2MxQPjK",
        "outputId": "ae7f17db-c39c-46e5-f700-dd1c71b533a6",
        "colab": {
          "base_uri": "https://localhost:8080/",
          "height": 67
        }
      },
      "source": [
        "print(\"Enter the number to check whethwe it is positive or negative or zero\")\n",
        "num = float(input(\"Number = \"))\n",
        "if (num > 0):\n",
        "  print(\"Number is positive\")\n",
        "elif (num < 0):\n",
        "  print(\"Number is negative\")\n",
        "else:\n",
        "  print(\"Number is equal to zero\")"
      ],
      "execution_count": null,
      "outputs": [
        {
          "output_type": "stream",
          "text": [
            "Enter the number to check whethwe it is positive or negative or zero\n",
            "Number = 0\n",
            "Number is equal to zero\n"
          ],
          "name": "stdout"
        }
      ]
    },
    {
      "cell_type": "markdown",
      "metadata": {
        "id": "IiQazazFFUt5"
      },
      "source": [
        "##Write a python program check whether the given year is leap year or not."
      ]
    },
    {
      "cell_type": "code",
      "metadata": {
        "id": "_58wCIQsRQrh",
        "outputId": "e9ebfbe6-7da0-41d8-dbbb-ae7816d4bba6",
        "colab": {
          "base_uri": "https://localhost:8080/",
          "height": 50
        }
      },
      "source": [
        "year = int(input(\"Enter a year: \"))\n",
        "\n",
        "if (year % 4) == 0:\n",
        "   if (year % 100) == 0:\n",
        "       if (year % 400) == 0:\n",
        "           print(\"{0} is a leap year\".format(year))\n",
        "       else:\n",
        "           print(\"{0} is not a leap year\".format(year))\n",
        "   else:\n",
        "       print(\"{0} is a leap year\".format(year))\n",
        "else:\n",
        "   print(\"{0} is not a leap year\".format(year))"
      ],
      "execution_count": null,
      "outputs": [
        {
          "output_type": "stream",
          "text": [
            "Enter a year: 2019\n",
            "2019 is not a leap year\n"
          ],
          "name": "stdout"
        }
      ]
    },
    {
      "cell_type": "markdown",
      "metadata": {
        "id": "ZW_vpCMqFe6F"
      },
      "source": [
        "##With example code explain local and global scope variables in python."
      ]
    },
    {
      "cell_type": "code",
      "metadata": {
        "id": "qEz8J18OUp1H",
        "outputId": "53f02dcc-b909-4459-8631-ce794fe5beb7",
        "colab": {
          "base_uri": "https://localhost:8080/",
          "height": 50
        }
      },
      "source": [
        "total = 0   # This is global variable.\n",
        "# Function definition is here\n",
        "def sum( arg1, arg2 ):\n",
        "   # Add both the parameters and return them.\"\n",
        "   total = arg1 + arg2; # Here total is local variable.\n",
        "   print (\"Inside the function local total : \", total)\n",
        "   return total\n",
        "\n",
        "# Now you can call sum function\n",
        "sum( 10, 20 )\n",
        "print (\"Outside the function global total : \", total )"
      ],
      "execution_count": null,
      "outputs": [
        {
          "output_type": "stream",
          "text": [
            "Inside the function local total :  30\n",
            "Outside the function global total :  0\n"
          ],
          "name": "stdout"
        }
      ]
    },
    {
      "cell_type": "markdown",
      "metadata": {
        "id": "J950jE5DDh9r"
      },
      "source": [
        "##demonstrate with example code how the local and global variables with the same name "
      ]
    },
    {
      "cell_type": "code",
      "metadata": {
        "id": "lHytFE24Dizb",
        "outputId": "943aae82-86a2-4b83-f95d-a79a84a996e5",
        "colab": {
          "base_uri": "https://localhost:8080/",
          "height": 50
        }
      },
      "source": [
        "# This function has a variable with \n",
        "# name same as s. \n",
        "def f():  \n",
        "    s = \"Hi friends\"\n",
        "    print(s) \n",
        "  \n",
        "# Global scope \n",
        "s = \"I am a student of SJMIT\" \n",
        "f() \n",
        "print(s)"
      ],
      "execution_count": null,
      "outputs": [
        {
          "output_type": "stream",
          "text": [
            "Hi friends\n",
            "I am a student of SJMIT\n"
          ],
          "name": "stdout"
        }
      ]
    },
    {
      "cell_type": "markdown",
      "metadata": {
        "id": "1m67OySsWJbD"
      },
      "source": [
        "##Write a Python Program to Check Vowel or Consonant. "
      ]
    },
    {
      "cell_type": "code",
      "metadata": {
        "id": "n1NJlhzzWIUL",
        "outputId": "3e079c96-a0e4-45b5-849d-c7ba91087965",
        "colab": {
          "base_uri": "https://localhost:8080/",
          "height": 50
        }
      },
      "source": [
        "ch = input(\"Enter a character: \")\n",
        "\n",
        "if(ch=='A' or ch=='a' or ch=='E' or ch =='e' or ch=='I'\n",
        " or ch=='i' or ch=='O' or ch=='o' or ch=='U' or ch=='u'):\n",
        "    print(ch, \"is a Vowel\")\n",
        "else:\n",
        "    print(ch, \"is a Consonant\")"
      ],
      "execution_count": null,
      "outputs": [
        {
          "output_type": "stream",
          "text": [
            "Enter a character: S\n",
            "S is a Consonant\n"
          ],
          "name": "stdout"
        }
      ]
    },
    {
      "cell_type": "markdown",
      "metadata": {
        "id": "b3lFNBKqWiWC"
      },
      "source": [
        "##Write a Python program to find factorial of given number "
      ]
    },
    {
      "cell_type": "code",
      "metadata": {
        "id": "WczI1MjLWkKx",
        "outputId": "29f5e124-6d79-4cc6-e53d-0ed5a7eab756",
        "colab": {
          "base_uri": "https://localhost:8080/",
          "height": 50
        }
      },
      "source": [
        "num = int(input(\"Enter a number: \"))  \n",
        "factorial = 1  \n",
        "if num < 0:  \n",
        "   print(\"Factorial does not exist for negative numbers\")  \n",
        "elif num == 0:  \n",
        "   print(\"The factorial of 0 is 1\")  \n",
        "else:  \n",
        "   for i in range(1,num + 1):  \n",
        "       factorial = factorial*i  \n",
        "   print(\"The factorial of\",num,\"is\",factorial)  "
      ],
      "execution_count": null,
      "outputs": [
        {
          "output_type": "stream",
          "text": [
            "Enter a number: -14\n",
            "Factorial does not exist for negative numbers\n"
          ],
          "name": "stdout"
        }
      ]
    },
    {
      "cell_type": "markdown",
      "metadata": {
        "id": "XVMypDvEEh5j"
      },
      "source": [
        "##Demonstrate the use of the global Statement using a snippet code? "
      ]
    },
    {
      "cell_type": "code",
      "metadata": {
        "id": "rfmfVq_8Egd7",
        "outputId": "60074315-25a2-4f10-c5cc-6856a91a06ea",
        "colab": {
          "base_uri": "https://localhost:8080/",
          "height": 34
        }
      },
      "source": [
        "# Python program showing no need to \n",
        "# use global keyword for accessing \n",
        "# a global value \n",
        "  \n",
        "# global variable \n",
        "a = 20\n",
        "b = 45\n",
        "  \n",
        "# function to perform addition \n",
        "def add(): \n",
        "    c = a + b \n",
        "    print(c) \n",
        "  \n",
        "# calling a function \n",
        "add() "
      ],
      "execution_count": null,
      "outputs": [
        {
          "output_type": "stream",
          "text": [
            "65\n"
          ],
          "name": "stdout"
        }
      ]
    },
    {
      "cell_type": "markdown",
      "metadata": {
        "id": "0m7tUWZMV0o4"
      },
      "source": [
        "##Exception Handling "
      ]
    },
    {
      "cell_type": "code",
      "metadata": {
        "id": "_HeetISEZBr2",
        "outputId": "2aa04781-4e28-4bc9-ecf2-6a718790a66f",
        "colab": {
          "base_uri": "https://localhost:8080/",
          "height": 34
        }
      },
      "source": [
        "try:\n",
        "   fh = open(\"testfile\", \"w\")\n",
        "   fh.write(\"This is my test file for exception handling!!\")\n",
        "except IOError:\n",
        "   print (\"Error: can\\'t find file or read data\")\n",
        "else:\n",
        "   print (\"Written content in the file successfully\")\n",
        "   fh.close()"
      ],
      "execution_count": null,
      "outputs": [
        {
          "output_type": "stream",
          "text": [
            "Written content in the file successfully\n"
          ],
          "name": "stdout"
        }
      ]
    },
    {
      "cell_type": "markdown",
      "metadata": {
        "id": "Em_NuJBlFnij"
      },
      "source": [
        "##What is Fibonacci number? Write a python program to find Function for nth Fibonacci number. Fn = Fn-1 + Fn-2."
      ]
    },
    {
      "cell_type": "code",
      "metadata": {
        "id": "moYgqrLdYCNn",
        "outputId": "b41a0116-d576-40ba-c5d4-0b8e8ad847d3",
        "colab": {
          "base_uri": "https://localhost:8080/",
          "height": 134
        }
      },
      "source": [
        "# Program to display the Fibonacci sequence up to n-th term\n",
        "\n",
        "nterms = int(input(\"How many terms? \"))\n",
        "\n",
        "# first two terms\n",
        "n1, n2 = 0, 1\n",
        "count = 0\n",
        "\n",
        "# check if the number of terms is valid\n",
        "if nterms <= 0:\n",
        "   print(\"Please enter a positive integer\")\n",
        "elif nterms == 1:\n",
        "   print(\"Fibonacci sequence upto\",nterms,\":\")\n",
        "   print(n1)\n",
        "else:\n",
        "   print(\"Fibonacci sequence:\")\n",
        "   while count < nterms:\n",
        "       print(n1)\n",
        "       nth = n1 + n2\n",
        "       # update values\n",
        "       n1 = n2\n",
        "       n2 = nth\n",
        "       count += 1"
      ],
      "execution_count": null,
      "outputs": [
        {
          "output_type": "stream",
          "text": [
            "How many terms? 5\n",
            "Fibonacci sequence:\n",
            "0\n",
            "1\n",
            "1\n",
            "2\n",
            "3\n"
          ],
          "name": "stdout"
        }
      ]
    }
  ]
}